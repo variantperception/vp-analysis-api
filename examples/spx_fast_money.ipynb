{
 "cells": [
  {
   "cell_type": "code",
   "execution_count": null,
   "metadata": {},
   "outputs": [],
   "source": [
    "! pip install git+https://github.com/variantperception/vp-analysis-api.git"
   ]
  },
  {
   "cell_type": "code",
   "execution_count": null,
   "metadata": {},
   "outputs": [],
   "source": [
    "from vp_analysis_api.VPAnalysisAPI import VPAnalysisAPI\n",
    "\n",
    "# download api key file from https://dev-portal.variantperception.com/user/settings?tab=api%20keys\n",
    "# and save it in the same directory as this script (or somewhere safer)\n",
    "# or set the key as an environment variable: VP_ANALYSIS_API_KEY \n",
    "\n",
    "api_key = None\n",
    "with open('api-key.txt', 'r') as file:\n",
    "    api_key\n",
    "    api_key = file.read().replace('\\n', '')\n",
    "\n",
    "\n",
    "api = VPAnalysisAPI(api_key)"
   ]
  },
  {
   "cell_type": "code",
   "execution_count": null,
   "metadata": {},
   "outputs": [],
   "source": [
    "fast_money_data = api.get_series([\"spx_bot_up_spec_flows\", \"acwi_bot_up_spec_flows\"])\n",
    "fast_money_data"
   ]
  }
 ],
 "metadata": {
  "language_info": {
   "name": "python"
  }
 },
 "nbformat": 4,
 "nbformat_minor": 2
}
