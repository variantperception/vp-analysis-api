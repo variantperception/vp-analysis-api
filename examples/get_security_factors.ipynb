{
 "cells": [
  {
   "cell_type": "code",
   "execution_count": null,
   "metadata": {},
   "outputs": [],
   "source": [
    "from vp_analysis_api.VPAnalysisAPI import VPAnalysisAPI\n",
    "\n",
    "# download api key file from https://portal.variantperception.com/user/settings?tab=api%20keys\n",
    "# and save it in the same directory as this script (or somewhere safer)\n",
    "# or set the key as an environment variable: VP_ANALYSIS_API_KEY \n",
    "\n",
    "api_key = None\n",
    "with open('/tmp/api-key.txt', 'r') as file:\n",
    "    api_key\n",
    "    api_key = file.read().replace('\\n', '')\n",
    "\n",
    "api = VPAnalysisAPI(api_key)"
   ]
  },
  {
   "cell_type": "code",
   "execution_count": null,
   "metadata": {},
   "outputs": [],
   "source": [
    "api.get_securities()"
   ]
  },
  {
   "cell_type": "code",
   "execution_count": null,
   "metadata": {},
   "outputs": [],
   "source": [
    "api.get_security_factors(['SDZ:SWX'], ['vp_fast_money', 'capital_cycle_score'])"
   ]
  },
  {
   "cell_type": "code",
   "execution_count": null,
   "metadata": {},
   "outputs": [],
   "source": [
    "df = api.get_df_from_series_list([\"vp:acwi_bot_up_spec_flows\"], validate_old=False)\n",
    "df"
   ]
  }
 ],
 "metadata": {
  "kernelspec": {
   "display_name": "vpanalysis",
   "language": "python",
   "name": "python3"
  },
  "language_info": {
   "codemirror_mode": {
    "name": "ipython",
    "version": 3
   },
   "file_extension": ".py",
   "mimetype": "text/x-python",
   "name": "python",
   "nbconvert_exporter": "python",
   "pygments_lexer": "ipython3",
   "version": "3.9.18"
  }
 },
 "nbformat": 4,
 "nbformat_minor": 2
}
